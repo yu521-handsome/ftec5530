{
 "cells": [
  {
   "cell_type": "code",
   "execution_count": 1,
   "id": "493278e5",
   "metadata": {},
   "outputs": [],
   "source": [
    "import pandas as pd\n",
    "from matplotlib import pyplot as plt"
   ]
  },
  {
   "cell_type": "code",
   "execution_count": null,
   "id": "a83c35d3",
   "metadata": {},
   "outputs": [],
   "source": [
    "data_1h = pd.read_csv(r'BTC_USDT_1h.csv')\n",
    "data_1h[\"datetime\"] = pd.to_datetime(data_1h[\"timestamp\"], unit='ms')\n",
    "data_1h[\"datetime\"] = data_1h[\"datetime\"].dt.strftime('%Y-%m-%d %H:%M:%S')\n",
    "data_1h[\"datetime\"] = pd.to_datetime(data_1h[\"datetime\"])\n",
    "data_1h.set_index(\"datetime\", inplace=True)\n",
    "\n",
    "data_1d = pd.read_csv(r'BTC_USDT_1d.csv')\n",
    "data_1d[\"datetime\"] = pd.to_datetime(data_1d[\"timestamp\"], unit='ms')\n",
    "data_1d[\"datetime\"] = data_1d[\"datetime\"].dt.strftime('%Y-%m-%d %H:%M:%S')\n",
    "data_1d[\"datetime\"] = pd.to_datetime(data_1d[\"datetime\"])\n",
    "data_1d.set_index(\"datetime\", inplace=True)"
   ]
  },
  {
   "cell_type": "markdown",
   "id": "f053f834",
   "metadata": {},
   "source": [
    "## 缺失值检查"
   ]
  },
  {
   "cell_type": "code",
   "execution_count": 3,
   "id": "8d701b19",
   "metadata": {},
   "outputs": [
    {
     "data": {
      "text/plain": [
       "timestamp    False\n",
       "open         False\n",
       "high         False\n",
       "low          False\n",
       "close        False\n",
       "volume       False\n",
       "dtype: bool"
      ]
     },
     "execution_count": 3,
     "metadata": {},
     "output_type": "execute_result"
    }
   ],
   "source": [
    "data_1h.isnull().any()"
   ]
  },
  {
   "cell_type": "code",
   "execution_count": 4,
   "id": "07f0e917",
   "metadata": {},
   "outputs": [
    {
     "data": {
      "text/plain": [
       "timestamp    False\n",
       "open         False\n",
       "high         False\n",
       "low          False\n",
       "close        False\n",
       "volume       False\n",
       "dtype: bool"
      ]
     },
     "execution_count": 4,
     "metadata": {},
     "output_type": "execute_result"
    }
   ],
   "source": [
    "data_1d.isnull().any()"
   ]
  },
  {
   "cell_type": "markdown",
   "id": "a7cf878e",
   "metadata": {},
   "source": [
    "## 数据框信息"
   ]
  },
  {
   "cell_type": "code",
   "execution_count": 5,
   "id": "cfe733c4",
   "metadata": {},
   "outputs": [
    {
     "name": "stdout",
     "output_type": "stream",
     "text": [
      "<class 'pandas.core.frame.DataFrame'>\n",
      "DatetimeIndex: 11000 entries, 2024-01-01 00:00:00 to 2025-04-03 07:00:00\n",
      "Data columns (total 6 columns):\n",
      " #   Column     Non-Null Count  Dtype  \n",
      "---  ------     --------------  -----  \n",
      " 0   timestamp  11000 non-null  int64  \n",
      " 1   open       11000 non-null  float64\n",
      " 2   high       11000 non-null  float64\n",
      " 3   low        11000 non-null  float64\n",
      " 4   close      11000 non-null  float64\n",
      " 5   volume     11000 non-null  float64\n",
      "dtypes: float64(5), int64(1)\n",
      "memory usage: 601.6 KB\n"
     ]
    }
   ],
   "source": [
    "data_1h.info()"
   ]
  },
  {
   "cell_type": "code",
   "execution_count": 6,
   "id": "c210b348",
   "metadata": {},
   "outputs": [
    {
     "name": "stdout",
     "output_type": "stream",
     "text": [
      "<class 'pandas.core.frame.DataFrame'>\n",
      "DatetimeIndex: 469 entries, 2024-01-01 to 2025-04-13\n",
      "Data columns (total 6 columns):\n",
      " #   Column     Non-Null Count  Dtype  \n",
      "---  ------     --------------  -----  \n",
      " 0   timestamp  469 non-null    int64  \n",
      " 1   open       469 non-null    float64\n",
      " 2   high       469 non-null    float64\n",
      " 3   low        469 non-null    float64\n",
      " 4   close      469 non-null    float64\n",
      " 5   volume     469 non-null    float64\n",
      "dtypes: float64(5), int64(1)\n",
      "memory usage: 25.6 KB\n"
     ]
    }
   ],
   "source": [
    "data_1d.info()"
   ]
  },
  {
   "cell_type": "markdown",
   "id": "590699c4",
   "metadata": {},
   "source": [
    "## 重复值检查"
   ]
  },
  {
   "cell_type": "code",
   "execution_count": 7,
   "id": "e328f1b0",
   "metadata": {},
   "outputs": [
    {
     "data": {
      "text/plain": [
       "False"
      ]
     },
     "execution_count": 7,
     "metadata": {},
     "output_type": "execute_result"
    }
   ],
   "source": [
    "data_1h.duplicated().any()"
   ]
  },
  {
   "cell_type": "code",
   "execution_count": 8,
   "id": "49765497",
   "metadata": {},
   "outputs": [
    {
     "data": {
      "text/plain": [
       "False"
      ]
     },
     "execution_count": 8,
     "metadata": {},
     "output_type": "execute_result"
    }
   ],
   "source": [
    "data_1d.duplicated().any()"
   ]
  },
  {
   "cell_type": "code",
   "execution_count": 9,
   "id": "d745c4b0",
   "metadata": {},
   "outputs": [
    {
     "data": {
      "text/plain": [
       "False"
      ]
     },
     "execution_count": 9,
     "metadata": {},
     "output_type": "execute_result"
    }
   ],
   "source": [
    "data_1h.index.duplicated().any()"
   ]
  },
  {
   "cell_type": "code",
   "execution_count": 10,
   "id": "1daeae5c",
   "metadata": {},
   "outputs": [
    {
     "data": {
      "text/plain": [
       "False"
      ]
     },
     "execution_count": 10,
     "metadata": {},
     "output_type": "execute_result"
    }
   ],
   "source": [
    "data_1d.index.duplicated().any()"
   ]
  },
  {
   "cell_type": "markdown",
   "id": "6d4b39e4",
   "metadata": {},
   "source": [
    "## 描述性统计"
   ]
  },
  {
   "cell_type": "code",
   "execution_count": 11,
   "id": "99b42f80",
   "metadata": {},
   "outputs": [
    {
     "data": {
      "application/vnd.microsoft.datawrangler.viewer.v0+json": {
       "columns": [
        {
         "name": "index",
         "rawType": "object",
         "type": "string"
        },
        {
         "name": "open",
         "rawType": "float64",
         "type": "float"
        },
        {
         "name": "high",
         "rawType": "float64",
         "type": "float"
        },
        {
         "name": "low",
         "rawType": "float64",
         "type": "float"
        },
        {
         "name": "close",
         "rawType": "float64",
         "type": "float"
        },
        {
         "name": "volume",
         "rawType": "float64",
         "type": "float"
        },
        {
         "name": "pct_change",
         "rawType": "float64",
         "type": "float"
        }
       ],
       "conversionMethod": "pd.DataFrame",
       "ref": "d44d4b98-450b-4352-9622-e1b7c48a3382",
       "rows": [
        [
         "count",
         "11000.0",
         "11000.0",
         "11000.0",
         "11000.0",
         "11000.0",
         "10999.0"
        ],
        [
         "mean",
         "71400.45325909091",
         "71643.16804818182",
         "71141.76398363635",
         "71403.32125818182",
         "2.2346646554545453",
         "7.684288782486192e-05"
        ],
        [
         "std",
         "17423.49665933269",
         "17483.311474387592",
         "17357.367717489014",
         "17420.226826559552",
         "4.391043453497082",
         "0.005595032352917725"
        ],
        [
         "min",
         "38789.47",
         "38879.44",
         "38570.59",
         "38800.0",
         "0.00114",
         "-0.06154115900605317"
        ],
        [
         "25%",
         "60803.37",
         "60952.8575",
         "60591.42",
         "60798.025",
         "0.2713675",
         "-0.0022101409577808817"
        ],
        [
         "50%",
         "66925.61",
         "67127.195",
         "66713.06",
         "66923.625",
         "0.8193349999999999",
         "0.00010105912346269896"
        ],
        [
         "75%",
         "86789.6075",
         "87126.4275",
         "86276.79749999999",
         "86749.7075",
         "2.36407",
         "0.0024725280207407163"
        ],
        [
         "max",
         "108249.97",
         "109461.87",
         "107830.01",
         "108349.82",
         "93.29257",
         "0.050038564934967056"
        ]
       ],
       "shape": {
        "columns": 6,
        "rows": 8
       }
      },
      "text/html": [
       "<div>\n",
       "<style scoped>\n",
       "    .dataframe tbody tr th:only-of-type {\n",
       "        vertical-align: middle;\n",
       "    }\n",
       "\n",
       "    .dataframe tbody tr th {\n",
       "        vertical-align: top;\n",
       "    }\n",
       "\n",
       "    .dataframe thead th {\n",
       "        text-align: right;\n",
       "    }\n",
       "</style>\n",
       "<table border=\"1\" class=\"dataframe\">\n",
       "  <thead>\n",
       "    <tr style=\"text-align: right;\">\n",
       "      <th></th>\n",
       "      <th>open</th>\n",
       "      <th>high</th>\n",
       "      <th>low</th>\n",
       "      <th>close</th>\n",
       "      <th>volume</th>\n",
       "      <th>pct_change</th>\n",
       "    </tr>\n",
       "  </thead>\n",
       "  <tbody>\n",
       "    <tr>\n",
       "      <th>count</th>\n",
       "      <td>11000.000000</td>\n",
       "      <td>11000.000000</td>\n",
       "      <td>11000.000000</td>\n",
       "      <td>11000.000000</td>\n",
       "      <td>11000.000000</td>\n",
       "      <td>10999.000000</td>\n",
       "    </tr>\n",
       "    <tr>\n",
       "      <th>mean</th>\n",
       "      <td>71400.453259</td>\n",
       "      <td>71643.168048</td>\n",
       "      <td>71141.763984</td>\n",
       "      <td>71403.321258</td>\n",
       "      <td>2.234665</td>\n",
       "      <td>0.000077</td>\n",
       "    </tr>\n",
       "    <tr>\n",
       "      <th>std</th>\n",
       "      <td>17423.496659</td>\n",
       "      <td>17483.311474</td>\n",
       "      <td>17357.367717</td>\n",
       "      <td>17420.226827</td>\n",
       "      <td>4.391043</td>\n",
       "      <td>0.005595</td>\n",
       "    </tr>\n",
       "    <tr>\n",
       "      <th>min</th>\n",
       "      <td>38789.470000</td>\n",
       "      <td>38879.440000</td>\n",
       "      <td>38570.590000</td>\n",
       "      <td>38800.000000</td>\n",
       "      <td>0.001140</td>\n",
       "      <td>-0.061541</td>\n",
       "    </tr>\n",
       "    <tr>\n",
       "      <th>25%</th>\n",
       "      <td>60803.370000</td>\n",
       "      <td>60952.857500</td>\n",
       "      <td>60591.420000</td>\n",
       "      <td>60798.025000</td>\n",
       "      <td>0.271367</td>\n",
       "      <td>-0.002210</td>\n",
       "    </tr>\n",
       "    <tr>\n",
       "      <th>50%</th>\n",
       "      <td>66925.610000</td>\n",
       "      <td>67127.195000</td>\n",
       "      <td>66713.060000</td>\n",
       "      <td>66923.625000</td>\n",
       "      <td>0.819335</td>\n",
       "      <td>0.000101</td>\n",
       "    </tr>\n",
       "    <tr>\n",
       "      <th>75%</th>\n",
       "      <td>86789.607500</td>\n",
       "      <td>87126.427500</td>\n",
       "      <td>86276.797500</td>\n",
       "      <td>86749.707500</td>\n",
       "      <td>2.364070</td>\n",
       "      <td>0.002473</td>\n",
       "    </tr>\n",
       "    <tr>\n",
       "      <th>max</th>\n",
       "      <td>108249.970000</td>\n",
       "      <td>109461.870000</td>\n",
       "      <td>107830.010000</td>\n",
       "      <td>108349.820000</td>\n",
       "      <td>93.292570</td>\n",
       "      <td>0.050039</td>\n",
       "    </tr>\n",
       "  </tbody>\n",
       "</table>\n",
       "</div>"
      ],
      "text/plain": [
       "                open           high            low          close  \\\n",
       "count   11000.000000   11000.000000   11000.000000   11000.000000   \n",
       "mean    71400.453259   71643.168048   71141.763984   71403.321258   \n",
       "std     17423.496659   17483.311474   17357.367717   17420.226827   \n",
       "min     38789.470000   38879.440000   38570.590000   38800.000000   \n",
       "25%     60803.370000   60952.857500   60591.420000   60798.025000   \n",
       "50%     66925.610000   67127.195000   66713.060000   66923.625000   \n",
       "75%     86789.607500   87126.427500   86276.797500   86749.707500   \n",
       "max    108249.970000  109461.870000  107830.010000  108349.820000   \n",
       "\n",
       "             volume    pct_change  \n",
       "count  11000.000000  10999.000000  \n",
       "mean       2.234665      0.000077  \n",
       "std        4.391043      0.005595  \n",
       "min        0.001140     -0.061541  \n",
       "25%        0.271367     -0.002210  \n",
       "50%        0.819335      0.000101  \n",
       "75%        2.364070      0.002473  \n",
       "max       93.292570      0.050039  "
      ]
     },
     "execution_count": 11,
     "metadata": {},
     "output_type": "execute_result"
    }
   ],
   "source": [
    "data_1h[\"pct_change\"] = data_1h[\"close\"].pct_change()\n",
    "data_1h.drop(columns=[\"timestamp\"]).describe()"
   ]
  },
  {
   "cell_type": "code",
   "execution_count": 12,
   "id": "080e5c94",
   "metadata": {},
   "outputs": [
    {
     "data": {
      "application/vnd.microsoft.datawrangler.viewer.v0+json": {
       "columns": [
        {
         "name": "index",
         "rawType": "object",
         "type": "string"
        },
        {
         "name": "open",
         "rawType": "float64",
         "type": "float"
        },
        {
         "name": "high",
         "rawType": "float64",
         "type": "float"
        },
        {
         "name": "low",
         "rawType": "float64",
         "type": "float"
        },
        {
         "name": "close",
         "rawType": "float64",
         "type": "float"
        },
        {
         "name": "volume",
         "rawType": "float64",
         "type": "float"
        },
        {
         "name": "pct_change",
         "rawType": "float64",
         "type": "float"
        }
       ],
       "conversionMethod": "pd.DataFrame",
       "ref": "5d5d7a26-5a2b-42b7-9ba1-05b462101085",
       "rows": [
        [
         "count",
         "469.0",
         "469.0",
         "469.0",
         "469.0",
         "469.0",
         "468.0"
        ],
        [
         "mean",
         "71595.4856076759",
         "73015.09748400853",
         "70122.93424307035",
         "71677.41541577825",
         "52.86737300639659",
         "0.001776405019781562"
        ],
        [
         "std",
         "17313.206898294015",
         "17618.763347854943",
         "16913.217042111795",
         "17264.044540509367",
         "66.49336500521007",
         "0.02766150884482508"
        ],
        [
         "min",
         "39553.71",
         "40164.61",
         "38570.59",
         "39553.71",
         "1.71482",
         "-0.0855896332980961"
        ],
        [
         "25%",
         "60827.48",
         "62173.95",
         "59631.64",
         "60815.46",
         "18.48643",
         "-0.012581185264522593"
        ],
        [
         "50%",
         "67160.61",
         "68203.04",
         "66000.0",
         "67173.0",
         "31.95767",
         "0.0004885721979983604"
        ],
        [
         "75%",
         "86167.26",
         "88206.13",
         "83777.7",
         "86292.76",
         "54.9445",
         "0.014737057236013762"
        ],
        [
         "max",
         "106201.71",
         "109461.87",
         "105400.0",
         "106265.06",
         "447.5733",
         "0.1205440762516301"
        ]
       ],
       "shape": {
        "columns": 6,
        "rows": 8
       }
      },
      "text/html": [
       "<div>\n",
       "<style scoped>\n",
       "    .dataframe tbody tr th:only-of-type {\n",
       "        vertical-align: middle;\n",
       "    }\n",
       "\n",
       "    .dataframe tbody tr th {\n",
       "        vertical-align: top;\n",
       "    }\n",
       "\n",
       "    .dataframe thead th {\n",
       "        text-align: right;\n",
       "    }\n",
       "</style>\n",
       "<table border=\"1\" class=\"dataframe\">\n",
       "  <thead>\n",
       "    <tr style=\"text-align: right;\">\n",
       "      <th></th>\n",
       "      <th>open</th>\n",
       "      <th>high</th>\n",
       "      <th>low</th>\n",
       "      <th>close</th>\n",
       "      <th>volume</th>\n",
       "      <th>pct_change</th>\n",
       "    </tr>\n",
       "  </thead>\n",
       "  <tbody>\n",
       "    <tr>\n",
       "      <th>count</th>\n",
       "      <td>469.000000</td>\n",
       "      <td>469.000000</td>\n",
       "      <td>469.000000</td>\n",
       "      <td>469.000000</td>\n",
       "      <td>469.000000</td>\n",
       "      <td>468.000000</td>\n",
       "    </tr>\n",
       "    <tr>\n",
       "      <th>mean</th>\n",
       "      <td>71595.485608</td>\n",
       "      <td>73015.097484</td>\n",
       "      <td>70122.934243</td>\n",
       "      <td>71677.415416</td>\n",
       "      <td>52.867373</td>\n",
       "      <td>0.001776</td>\n",
       "    </tr>\n",
       "    <tr>\n",
       "      <th>std</th>\n",
       "      <td>17313.206898</td>\n",
       "      <td>17618.763348</td>\n",
       "      <td>16913.217042</td>\n",
       "      <td>17264.044541</td>\n",
       "      <td>66.493365</td>\n",
       "      <td>0.027662</td>\n",
       "    </tr>\n",
       "    <tr>\n",
       "      <th>min</th>\n",
       "      <td>39553.710000</td>\n",
       "      <td>40164.610000</td>\n",
       "      <td>38570.590000</td>\n",
       "      <td>39553.710000</td>\n",
       "      <td>1.714820</td>\n",
       "      <td>-0.085590</td>\n",
       "    </tr>\n",
       "    <tr>\n",
       "      <th>25%</th>\n",
       "      <td>60827.480000</td>\n",
       "      <td>62173.950000</td>\n",
       "      <td>59631.640000</td>\n",
       "      <td>60815.460000</td>\n",
       "      <td>18.486430</td>\n",
       "      <td>-0.012581</td>\n",
       "    </tr>\n",
       "    <tr>\n",
       "      <th>50%</th>\n",
       "      <td>67160.610000</td>\n",
       "      <td>68203.040000</td>\n",
       "      <td>66000.000000</td>\n",
       "      <td>67173.000000</td>\n",
       "      <td>31.957670</td>\n",
       "      <td>0.000489</td>\n",
       "    </tr>\n",
       "    <tr>\n",
       "      <th>75%</th>\n",
       "      <td>86167.260000</td>\n",
       "      <td>88206.130000</td>\n",
       "      <td>83777.700000</td>\n",
       "      <td>86292.760000</td>\n",
       "      <td>54.944500</td>\n",
       "      <td>0.014737</td>\n",
       "    </tr>\n",
       "    <tr>\n",
       "      <th>max</th>\n",
       "      <td>106201.710000</td>\n",
       "      <td>109461.870000</td>\n",
       "      <td>105400.000000</td>\n",
       "      <td>106265.060000</td>\n",
       "      <td>447.573300</td>\n",
       "      <td>0.120544</td>\n",
       "    </tr>\n",
       "  </tbody>\n",
       "</table>\n",
       "</div>"
      ],
      "text/plain": [
       "                open           high            low          close      volume  \\\n",
       "count     469.000000     469.000000     469.000000     469.000000  469.000000   \n",
       "mean    71595.485608   73015.097484   70122.934243   71677.415416   52.867373   \n",
       "std     17313.206898   17618.763348   16913.217042   17264.044541   66.493365   \n",
       "min     39553.710000   40164.610000   38570.590000   39553.710000    1.714820   \n",
       "25%     60827.480000   62173.950000   59631.640000   60815.460000   18.486430   \n",
       "50%     67160.610000   68203.040000   66000.000000   67173.000000   31.957670   \n",
       "75%     86167.260000   88206.130000   83777.700000   86292.760000   54.944500   \n",
       "max    106201.710000  109461.870000  105400.000000  106265.060000  447.573300   \n",
       "\n",
       "       pct_change  \n",
       "count  468.000000  \n",
       "mean     0.001776  \n",
       "std      0.027662  \n",
       "min     -0.085590  \n",
       "25%     -0.012581  \n",
       "50%      0.000489  \n",
       "75%      0.014737  \n",
       "max      0.120544  "
      ]
     },
     "execution_count": 12,
     "metadata": {},
     "output_type": "execute_result"
    }
   ],
   "source": [
    "data_1d[\"pct_change\"] = data_1d[\"close\"].pct_change()\n",
    "data_1d.drop(columns=[\"timestamp\"]).describe()"
   ]
  },
  {
   "cell_type": "code",
   "execution_count": 13,
   "id": "6c1542dd",
   "metadata": {},
   "outputs": [
    {
     "data": {
      "image/png": "[encoded data removed]",
      "text/plain": [
       "<Figure size 360x360 with 1 Axes>"
      ]
     },
     "metadata": {
      "needs_background": "light"
     },
     "output_type": "display_data"
    }
   ],
   "source": [
    "data_1h[\"pct_change\"].hist(bins=100, figsize=(5, 5), grid=True, color=\"blue\", alpha=0.7)\n",
    "plt.title(\"BTC_USDT 1h pct_change histogram\")\n",
    "plt.xlabel(\"pct_change\")\n",
    "plt.ylabel(\"Frequency\")\n",
    "plt.savefig(\"BTC_USDT_1h_pct_change_histogram.png\")"
   ]
  },
  {
   "cell_type": "code",
   "execution_count": 14,
   "id": "abbd4d2b",
   "metadata": {},
   "outputs": [
    {
     "data": {
      "image/png": "[encoded data removed]",
      "text/plain": [
       "<Figure size 576x216 with 1 Axes>"
      ]
     },
     "metadata": {
      "needs_background": "light"
     },
     "output_type": "display_data"
    }
   ],
   "source": [
    "plt.figure(figsize=(8, 3))\n",
    "plt.plot(data_1h[\"close\"],color=\"blue\", alpha=0.7)\n",
    "plt.title(\"BTC_USDT 1h close price\")\n",
    "plt.xlabel(\"datetime\")\n",
    "plt.ylabel(\"close price\")\n",
    "plt.savefig(\"BTC_USDT_1h_close_price.png\")"
   ]
  },
  {
   "cell_type": "code",
   "execution_count": 15,
   "id": "9bb19a35",
   "metadata": {},
   "outputs": [
    {
     "data": {
      "image/png": "[encoded data removed]",
      "text/plain": [
       "<Figure size 360x360 with 1 Axes>"
      ]
     },
     "metadata": {
      "needs_background": "light"
     },
     "output_type": "display_data"
    }
   ],
   "source": [
    "data_1d[\"pct_change\"].hist(bins=30, figsize=(5, 5), grid=True, color=\"blue\", alpha=0.7)\n",
    "plt.title(\"BTC_USDT 1d pct_change histogram\")\n",
    "plt.xlabel(\"pct_change\")\n",
    "plt.ylabel(\"Frequency\")\n",
    "plt.savefig(\"BTC_USDT_1d_pct_change_histogram.png\")"
   ]
  },
  {
   "cell_type": "code",
   "execution_count": 19,
   "id": "76010a10",
   "metadata": {},
   "outputs": [
    {
     "data": {
      "image/png": "[encoded data removed]",
      "text/plain": [
       "<Figure size 576x216 with 1 Axes>"
      ]
     },
     "metadata": {
      "needs_background": "light"
     },
     "output_type": "display_data"
    }
   ],
   "source": [
    "plt.figure(figsize=(8, 3))\n",
    "plt.plot(data_1d[\"close\"],color=\"orange\", alpha=0.7)\n",
    "plt.xlabel(\"datetime\")\n",
    "plt.ylabel(\"close price\")\n",
    "plt.title(\"BTC_USDT 1d close price\")\n",
    "plt.savefig(\"BTC_USDT_1d_close_price.png\")"
   ]
  },
  {
   "cell_type": "code",
   "execution_count": 18,
   "id": "7ab5a5d9",
   "metadata": {},
   "outputs": [],
   "source": [
    "data_1h.reset_index().to_feather(\"BTC_USDT_1h_processed.feather\")\n",
    "data_1d.reset_index().to_feather(\"BTC_USDT_1d_processed.feather\")"
   ]
  },
  {
   "cell_type": "code",
   "execution_count": null,
   "id": "f2de3b55",
   "metadata": {},
   "outputs": [],
   "source": []
  }
 ],
 "metadata": {
  "kernelspec": {
   "display_name": "base",
   "language": "python",
   "name": "python3"
  },
  "language_info": {
   "codemirror_mode": {
    "name": "ipython",
    "version": 3
   },
   "file_extension": ".py",
   "mimetype": "text/x-python",
   "name": "python",
   "nbconvert_exporter": "python",
   "pygments_lexer": "ipython3",
   "version": "3.9.12"
  }
 },
 "nbformat": 4,
 "nbformat_minor": 5
}
