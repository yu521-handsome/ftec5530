{
 "cells": [
  {
   "cell_type": "raw",
   "id": "e5a41aec-651e-41d8-8ac8-574cbf4882e0",
   "metadata": {},
   "source": [
    "数据来源：\n",
    "本地化BTC_USTD\n",
    "文件1:BTC_USTD 1h  from 2024-01-01 to 2025-04-13 \n",
    "\n",
    "模型：梯度提升树（XGBoost/LightGBM）\n",
    "参考来源：deepseek简单提供几个特征工程处理\n",
    "特征工程：1.价格波动范围 2.涨跌幅（百分比变化） 3.简单移动平均（4小时窗口） 4.交易量变化  5.时间特征"
   ]
  },
  {
   "cell_type": "code",
   "execution_count": 1,
   "id": "55c0abfd-6078-4457-a949-55abe31f6a96",
   "metadata": {},
   "outputs": [],
   "source": [
    "import pandas as pd\n",
    "import numpy as np\n",
    "from sklearn.model_selection import train_test_split"
   ]
  },
  {
   "cell_type": "raw",
   "id": "393de3d5-848f-4d0f-ba86-fbce45f3d6aa",
   "metadata": {},
   "source": [
    "加载数据"
   ]
  },
  {
   "cell_type": "code",
   "execution_count": 2,
   "id": "e672c443-3462-4492-8e09-03e44a37c7a5",
   "metadata": {},
   "outputs": [],
   "source": [
    "# 1. 加载数据\n",
    "file_path = \"/Users/rbw/Desktop/binanceus/BTC_USDT_1h.csv\"\n",
    "df = pd.read_csv(file_path)"
   ]
  },
  {
   "cell_type": "raw",
   "id": "fc03ba99-da65-4bcb-a8aa-41a98fed4b64",
   "metadata": {},
   "source": [
    "数据清洗"
   ]
  },
  {
   "cell_type": "code",
   "execution_count": 3,
   "id": "a7c1bb90-1722-40f1-8cb4-0826031b4efc",
   "metadata": {},
   "outputs": [
    {
     "name": "stdout",
     "output_type": "stream",
     "text": [
      "缺失值统计:\n",
      "timestamp    0\n",
      "open         0\n",
      "high         0\n",
      "low          0\n",
      "close        0\n",
      "volume       0\n",
      "dtype: int64\n",
      "\n",
      "填充后缺失值统计:\n",
      "timestamp    0\n",
      "open         0\n",
      "high         0\n",
      "low          0\n",
      "close        0\n",
      "volume       0\n",
      "dtype: int64\n"
     ]
    }
   ],
   "source": [
    "# 转换时间戳为datetime格式（假设timestamp列为毫秒级）\n",
    "df['datetime'] = pd.to_datetime(df['timestamp'], unit='ms')\n",
    "df.set_index('datetime', inplace=True)\n",
    "\n",
    "# 检查缺失值\n",
    "print(\"缺失值统计:\")\n",
    "print(df.isnull().sum())\n",
    "\n",
    "# 前向填充缺失值（如果有）\n",
    "df = df.ffill()\n",
    "\n",
    "# 验证填充结果\n",
    "print(\"\\n填充后缺失值统计:\")\n",
    "print(df.isnull().sum())"
   ]
  },
  {
   "cell_type": "raw",
   "id": "6fd9ae01-3f4c-4f33-94f8-c1a77d5792e8",
   "metadata": {},
   "source": [
    "特征工程"
   ]
  },
  {
   "cell_type": "code",
   "execution_count": 4,
   "id": "5ed76fb7-8cf9-414f-9770-506d249a104c",
   "metadata": {},
   "outputs": [],
   "source": [
    "# 价格波动范围\n",
    "df['price_range'] = df['high'] - df['low']\n",
    "\n",
    "# 涨跌幅（百分比变化）\n",
    "df['price_change_pct'] = df['close'].pct_change() * 100\n",
    "\n",
    "# 简单移动平均（4小时窗口）\n",
    "df['sma_4'] = df['close'].rolling(window=4).mean()\n",
    "\n",
    "# 交易量变化\n",
    "df['volume_change'] = df['volume'].pct_change()\n",
    "\n",
    "# 时间特征\n",
    "df['hour'] = df.index.hour\n",
    "df['day_of_week'] = df.index.dayofweek  # Monday=0, Sunday=6"
   ]
  },
  {
   "cell_type": "raw",
   "id": "b1af4ad6-e045-4da6-95ad-0db0ffa1d254",
   "metadata": {},
   "source": [
    "处理特征中的NaN（由于rolling计算产生）"
   ]
  },
  {
   "cell_type": "code",
   "execution_count": 5,
   "id": "92eea32b-1b1b-4e30-9193-be6aaf1174f5",
   "metadata": {},
   "outputs": [],
   "source": [
    "df.dropna(inplace=True)"
   ]
  },
  {
   "cell_type": "raw",
   "id": "0d3540d5-0e9c-45d2-a3cd-4faf636f840e",
   "metadata": {},
   "source": [
    "存入新对象df_clean。删除包含NaN的行（确保所有特征有效）"
   ]
  },
  {
   "cell_type": "code",
   "execution_count": 6,
   "id": "7aae8afb-14ee-4003-8e68-35994e9220d4",
   "metadata": {},
   "outputs": [],
   "source": [
    "df_clean = df.dropna().copy()  # 存入新对象df_clean"
   ]
  },
  {
   "cell_type": "raw",
   "id": "877dfbef-012f-48ec-906a-450b9c62fa8f",
   "metadata": {},
   "source": [
    "验证处理后的数据：直接显示索引（datetime）和其他列"
   ]
  },
  {
   "cell_type": "code",
   "execution_count": 7,
   "id": "cff86334-1900-40df-9203-ca5cba40b06f",
   "metadata": {},
   "outputs": [
    {
     "name": "stdout",
     "output_type": "stream",
     "text": [
      "\n",
      "（datetime作为索引）：\n",
      "                         open     close  price_range  price_change_pct  \\\n",
      "datetime                                                                 \n",
      "2024-01-01 03:00:00  42589.35  42320.95       328.93         -0.558453   \n",
      "2024-01-01 04:00:00  42338.81  42354.20       165.41          0.078566   \n",
      "2024-01-01 05:00:00  42354.27  42244.32       180.33         -0.259431   \n",
      "2024-01-01 06:00:00  42254.90  42412.37       232.58          0.397805   \n",
      "2024-01-01 07:00:00  42383.39  42490.00       116.61          0.183036   \n",
      "\n",
      "                          sma_4  volume_change  hour  \n",
      "datetime                                              \n",
      "2024-01-01 03:00:00  42484.6525       2.057307     3  \n",
      "2024-01-01 04:00:00  42450.9700      -0.647988     4  \n",
      "2024-01-01 05:00:00  42369.5225      -0.059128     5  \n",
      "2024-01-01 06:00:00  42332.9600       0.681908     6  \n",
      "2024-01-01 07:00:00  42375.2225      -0.095536     7  \n",
      "对应的时间索引：\n",
      "DatetimeIndex(['2024-01-01 03:00:00', '2024-01-01 04:00:00',\n",
      "               '2024-01-01 05:00:00', '2024-01-01 06:00:00',\n",
      "               '2024-01-01 07:00:00'],\n",
      "              dtype='datetime64[ns]', name='datetime', freq=None)\n",
      "\n",
      "原始数据行数: 10997 → 处理后行数: 10997 (删除了0行NaN)\n"
     ]
    }
   ],
   "source": [
    "print(\"\\n（datetime作为索引）：\")\n",
    "print(df_clean[['open', 'close', 'price_range', 'price_change_pct', 'sma_4', 'volume_change', 'hour']].head())\n",
    "print(\"对应的时间索引：\")\n",
    "print(df_clean.index[:5])\n",
    "\n",
    "# 检查形状变化\n",
    "print(f\"\\n原始数据行数: {len(df)} → 处理后行数: {len(df_clean)} (删除了{len(df) - len(df_clean)}行NaN)\")"
   ]
  }
 ],
 "metadata": {
  "kernelspec": {
   "display_name": "Python 3 (Correct)",
   "language": "python",
   "name": "python3"
  },
  "language_info": {
   "codemirror_mode": {
    "name": "ipython",
    "version": 3
   },
   "file_extension": ".py",
   "mimetype": "text/x-python",
   "name": "python",
   "nbconvert_exporter": "python",
   "pygments_lexer": "ipython3",
   "version": "3.10.12"
  }
 },
 "nbformat": 4,
 "nbformat_minor": 5
}
