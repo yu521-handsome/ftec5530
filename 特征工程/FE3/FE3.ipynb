{
 "cells": [
  {
   "cell_type": "raw",
   "id": "18137d51-e823-4cea-b637-541a9c3ba640",
   "metadata": {},
   "source": [
    "数据来源：\n",
    "本地化BTC_USTD\n",
    "文件1:BTC_USTD 1h  from 2024-01-01 to 2025-04-13 \n",
    "\n",
    "模型：LSTM\n",
    "参考来源：群里面的project 样本\n",
    "特征工程：滞后性3h"
   ]
  },
  {
   "cell_type": "code",
   "execution_count": 1,
   "id": "078df394-ab84-4a09-9bc7-a5461be5205a",
   "metadata": {},
   "outputs": [],
   "source": [
    "import pandas as pd\n",
    "import numpy as np\n",
    "from sklearn.preprocessing import MinMaxScaler"
   ]
  },
  {
   "cell_type": "raw",
   "id": "f5fe70c8-991f-4ae9-9522-2987e449b939",
   "metadata": {},
   "source": [
    "读取原始BTC_USDT 1h 数据。from 2024-01-01 to 2025-04-13 "
   ]
  },
  {
   "cell_type": "code",
   "execution_count": 2,
   "id": "27f94771-aafa-4cbd-b538-e359dad55199",
   "metadata": {},
   "outputs": [],
   "source": [
    "file_path = \"/Users/rbw/Desktop/binanceus/BTC_USDT_1h.csv\"  #路径\n",
    "df = pd.read_csv(file_path)\n",
    "\n",
    "# 转换时间戳为datetime并设为索引\n",
    "df['datetime'] = pd.to_datetime(df['datetime'])\n",
    "df.set_index('datetime', inplace=True)\n",
    "\n",
    "# 原始列：timestamp, datetime, open, high, low, close, volume\n",
    "features = ['open', 'high', 'low', 'close', 'volume']  # 选择需要生成滞后特征的列"
   ]
  },
  {
   "cell_type": "raw",
   "id": "0074e91d-d36b-4843-9992-27f1240124f3",
   "metadata": {},
   "source": [
    "标准化数据"
   ]
  },
  {
   "cell_type": "code",
   "execution_count": 3,
   "id": "1541e25b-65a5-40aa-9dd2-6756b6b913d6",
   "metadata": {},
   "outputs": [],
   "source": [
    "scaler = MinMaxScaler(feature_range=(0, 1))\n",
    "scaled = scaler.fit_transform(df[features])"
   ]
  },
  {
   "cell_type": "raw",
   "id": "549eb1bd-eab4-4aa3-abc1-ce64008b6b92",
   "metadata": {},
   "source": [
    "生成滞后特征和监督学习格式数据（过去3小时预测未来2小时）"
   ]
  },
  {
   "cell_type": "code",
   "execution_count": 4,
   "id": "3ace7b3b-0878-467a-8f6d-0cdc29021108",
   "metadata": {},
   "outputs": [],
   "source": [
    "def series_to_supervised(data, features, n_in=3, n_out=2, dropnan=True):\n",
    "    \"\"\"\n",
    "    将时间序列转换为监督学习格式\n",
    "    :param data: 标准化后的数据（NumPy数组）\n",
    "    :param features: 原始特征名列表（如 ['open', 'high', 'close', ...]）\n",
    "    :param n_in: 滞后步数（过去n_in个时间点）\n",
    "    :param n_out: 预测步数（未来n_out个时间点）\n",
    "    :param dropnan: 是否删除NaN行\n",
    "    :return: 包含滞后特征的DataFrame\n",
    "    \"\"\"\n",
    "    n_vars = len(features)\n",
    "    df = pd.DataFrame(data)\n",
    "    cols, names = [], []\n",
    "    \n",
    "    # 输入序列 (t-n, ..., t-1)\n",
    "    for i in range(n_in, 0, -1):\n",
    "        cols.append(df.shift(i))\n",
    "        names += [f'{features[j]}(t-{i})' for j in range(n_vars)]\n",
    "    \n",
    "    # 预测序列 (t, t+1, ..., t+n)\n",
    "    for i in range(0, n_out):\n",
    "        cols.append(df.shift(-i))\n",
    "        if i == 0:\n",
    "            names += [f'{features[j]}(t)' for j in range(n_vars)]\n",
    "        else:\n",
    "            names += [f'{features[j]}(t+{i})' for j in range(n_vars)]\n",
    "    \n",
    "    agg = pd.concat(cols, axis=1)\n",
    "    agg.columns = names\n",
    "    if dropnan:\n",
    "        agg.dropna(inplace=True)\n",
    "    return agg\n",
    "\n",
    "# 生成监督学习格式数据（过去3小时预测未来2小时）\n",
    "n_lag = 3\n",
    "n_pred = 2\n",
    "reframed = series_to_supervised(scaled, features, n_lag, n_pred)"
   ]
  },
  {
   "cell_type": "raw",
   "id": "83512d9c-2715-48a2-8291-aa949efb7468",
   "metadata": {},
   "source": [
    "提取输入(X)和输出(Y) ，存入reframed文件 （格式：过去三小时的特征+之后两小时）"
   ]
  },
  {
   "cell_type": "code",
   "execution_count": 5,
   "id": "b6eca9b4-57b5-4788-82b6-e9c6f9ed9f44",
   "metadata": {},
   "outputs": [],
   "source": [
    "# 输入特征：所有滞后列（如 open(t-3), high(t-3), ..., volume(t-1)）\n",
    "input_features = [col for col in reframed.columns if any(f in col for f in features) and 't-' in col]\n",
    "X = reframed[input_features]\n",
    "\n",
    "# 输出目标：未来close价格（close(t)和close(t+1)）\n",
    "output_features = ['close(t)', 'close(t+1)']\n",
    "Y = reframed[output_features]"
   ]
  },
  {
   "cell_type": "raw",
   "id": "919723c1-119d-449d-b4b2-1e6f94bdbaf7",
   "metadata": {},
   "source": [
    "输出结果"
   ]
  },
  {
   "cell_type": "code",
   "execution_count": 6,
   "id": "398e6964-6c89-42cd-b637-3c35b3520c9b",
   "metadata": {},
   "outputs": [
    {
     "name": "stdout",
     "output_type": "stream",
     "text": [
      "\n",
      "--------------- 特征工程后的数据样例 ---------------\n",
      "   open(t-3)  high(t-3)  low(t-3)  close(t-3)  volume(t-3)  open(t-2)  \\\n",
      "3   0.050235   0.052045  0.053541    0.053040     0.175634   0.053259   \n",
      "4   0.053259   0.053874  0.055658    0.054207     0.110720   0.054864   \n",
      "5   0.054864   0.052856  0.056838    0.054042     0.025297   0.054706   \n",
      "6   0.054706   0.052562  0.053276    0.050625     0.077367   0.051099   \n",
      "7   0.051099   0.049762  0.052784    0.051103     0.027226   0.051321   \n",
      "\n",
      "   high(t-2)  low(t-2)  close(t-2)  volume(t-2)  ...   open(t)   high(t)  \\\n",
      "3   0.053874  0.055658    0.054207     0.110720  ...  0.054706  0.052562   \n",
      "4   0.052856  0.056838    0.054042     0.025297  ...  0.051099  0.049762   \n",
      "5   0.052562  0.053276    0.050625     0.077367  ...  0.051321  0.049770   \n",
      "6   0.049762  0.052784    0.051103     0.027226  ...  0.049891  0.050685   \n",
      "7   0.049770  0.052576    0.049523     0.025616  ...  0.051740  0.051295   \n",
      "\n",
      "     low(t)  close(t)  volume(t)  open(t+1)  high(t+1)  low(t+1)  close(t+1)  \\\n",
      "3  0.053276  0.050625   0.077367   0.051099   0.049762  0.052784    0.051103   \n",
      "4  0.052784  0.051103   0.027226   0.051321   0.049770  0.052576    0.049523   \n",
      "5  0.052576  0.049523   0.025616   0.049891   0.050685  0.052754    0.051939   \n",
      "6  0.052754  0.051939   0.043091   0.051740   0.051295  0.055051    0.053055   \n",
      "7  0.055051  0.053055   0.038973   0.052940   0.051934  0.056016    0.053616   \n",
      "\n",
      "   volume(t+1)  \n",
      "3     0.027226  \n",
      "4     0.025616  \n",
      "5     0.043091  \n",
      "6     0.038973  \n",
      "7     0.051186  \n",
      "\n",
      "[5 rows x 25 columns]\n",
      "\n",
      "--------------- 输入特征(X) ---------------\n",
      "   open(t-3)  high(t-3)  low(t-3)  close(t-3)  volume(t-3)  open(t-2)  \\\n",
      "3   0.050235   0.052045  0.053541    0.053040     0.175634   0.053259   \n",
      "4   0.053259   0.053874  0.055658    0.054207     0.110720   0.054864   \n",
      "5   0.054864   0.052856  0.056838    0.054042     0.025297   0.054706   \n",
      "6   0.054706   0.052562  0.053276    0.050625     0.077367   0.051099   \n",
      "7   0.051099   0.049762  0.052784    0.051103     0.027226   0.051321   \n",
      "\n",
      "   high(t-2)  low(t-2)  close(t-2)  volume(t-2)  open(t-1)  high(t-1)  \\\n",
      "3   0.053874  0.055658    0.054207     0.110720   0.054864   0.052856   \n",
      "4   0.052856  0.056838    0.054042     0.025297   0.054706   0.052562   \n",
      "5   0.052562  0.053276    0.050625     0.077367   0.051099   0.049762   \n",
      "6   0.049762  0.052784    0.051103     0.027226   0.051321   0.049770   \n",
      "7   0.049770  0.052576    0.049523     0.025616   0.049891   0.050685   \n",
      "\n",
      "   low(t-1)  close(t-1)  volume(t-1)  \n",
      "3  0.056838    0.054042     0.025297  \n",
      "4  0.053276    0.050625     0.077367  \n",
      "5  0.052784    0.051103     0.027226  \n",
      "6  0.052576    0.049523     0.025616  \n",
      "7  0.052754    0.051939     0.043091  \n",
      "\n",
      "--------------- 输出目标(Y) ---------------\n",
      "   close(t)  close(t+1)\n",
      "3  0.050625    0.051103\n",
      "4  0.051103    0.049523\n",
      "5  0.049523    0.051939\n",
      "6  0.051939    0.053055\n",
      "7  0.053055    0.053616\n"
     ]
    }
   ],
   "source": [
    "print(\"\\n--------------- 特征工程后的数据样例 ---------------\")\n",
    "print(reframed.head())\n",
    "\n",
    "print(\"\\n--------------- 输入特征(X) ---------------\")\n",
    "print(X.head())\n",
    "\n",
    "print(\"\\n--------------- 输出目标(Y) ---------------\")\n",
    "print(Y.head())"
   ]
  }
 ],
 "metadata": {
  "kernelspec": {
   "display_name": "Python 3 (Correct)",
   "language": "python",
   "name": "python3"
  },
  "language_info": {
   "codemirror_mode": {
    "name": "ipython",
    "version": 3
   },
   "file_extension": ".py",
   "mimetype": "text/x-python",
   "name": "python",
   "nbconvert_exporter": "python",
   "pygments_lexer": "ipython3",
   "version": "3.10.12"
  }
 },
 "nbformat": 4,
 "nbformat_minor": 5
}
